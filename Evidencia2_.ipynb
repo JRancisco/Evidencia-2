{
  "nbformat": 4,
  "nbformat_minor": 0,
  "metadata": {
    "colab": {
      "provenance": []
    },
    "kernelspec": {
      "name": "python3",
      "display_name": "Python 3"
    },
    "language_info": {
      "name": "python"
    }
  },
  "cells": [
    {
      "cell_type": "code",
      "execution_count": 3,
      "metadata": {
        "colab": {
          "base_uri": "https://localhost:8080/"
        },
        "id": "3nixfxWc5e_4",
        "outputId": "73451266-2b3c-47f8-bb8e-42a878cdf6df"
      },
      "outputs": [
        {
          "output_type": "stream",
          "name": "stdout",
          "text": [
            "Nombre: Francisco, Edad: 15\n",
            "Nombre: Francisco, Edad: 19\n"
          ]
        }
      ],
      "source": [
        "#Este programa define una clase llamada Persona en Python. Aquí hay una descripción de lo que hace el programa:\n",
        "\n",
        "#Definición de la Clase Persona:\n",
        "#La clase Persona tiene un constructor __init__ que toma dos parámetros: nombre y edad. El atributo nombre se inicializa con el valor proporcionado, y el atributo _edad (marcado como protegido con un guion bajo) se inicializa con la edad proporcionada.\n",
        "#Se define una propiedad edad con el decorador @property que permite acceder al valor del atributo protegido _edad.\n",
        "\n",
        "#Método para Cambiar la Edad:\n",
        "#La clase tiene un método llamado cambiar_edad que toma un parámetro nueva_edad. Verifica si la nueva edad es un número positivo y, en caso afirmativo, actualiza el atributo _edad. Si la nueva edad no es válida, imprime un mensaje de advertencia.\n",
        "\n",
        "#Método para Obtener Información de la Persona:\n",
        "#La clase tiene un método llamado obtener_informacion que devuelve una cadena formateada con el nombre y la edad de la persona.\n",
        "\n",
        "#Creación de una Instancia de Persona:\n",
        "#Se crea una instancia de la clase Persona llamada persona1 con el nombre \"Francisco\" y la edad 15.\n",
        "\n",
        "#Mostrar Información Inicial:\n",
        "#Se imprime la información inicial de la persona utilizando el método obtener_informacion().\n",
        "\n",
        "#Cambiar la Edad:\n",
        "#Se llama al método cambiar_edad para cambiar la edad de la persona a 19.\n",
        "\n",
        "#Mostrar Información Actualizada:\n",
        "#Se imprime la información actualizada de la persona después de cambiar la edad.\n",
        "#En resumen, este programa ilustra el uso de clases y métodos en Python para representar y manipular información sobre una persona, incluyendo la capacidad de cambiar la edad de la persona.\n",
        "\n",
        "\n",
        "class Persona:\n",
        "    def __init__(self, nombre, edad):\n",
        "        self.nombre = nombre\n",
        "        self._edad = edad  # Usamos _edad para indicar que es un atributo protegido\n",
        "\n",
        "    # Definir una propiedad para acceder a la edad\n",
        "    @property\n",
        "    def edad(self):\n",
        "        return self._edad\n",
        "\n",
        "    # Definir un método para cambiar la edad\n",
        "    def cambiar_edad(self, nueva_edad):\n",
        "        if nueva_edad > 0:\n",
        "            self._edad = nueva_edad\n",
        "        else:\n",
        "            print(\"La edad debe ser un número positivo.\")\n",
        "\n",
        "    # Definir un método para obtener información de la persona\n",
        "    def obtener_informacion(self):\n",
        "        return f\"Nombre: {self.nombre}, Edad: {self._edad}\"\n",
        "\n",
        "# Crear una instancia de la clase Persona\n",
        "persona1 = Persona(nombre=\"Francisco\", edad=15)\n",
        "\n",
        "# Mostrar la información inicial de la persona\n",
        "print(persona1.obtener_informacion())\n",
        "\n",
        "# Cambiar la edad de la persona\n",
        "persona1.cambiar_edad(19)\n",
        "\n",
        "# Mostrar la información actualizada de la persona\n",
        "print(persona1.obtener_informacion())\n"
      ]
    }
  ]
}